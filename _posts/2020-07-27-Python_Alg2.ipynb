{
 "cells": [
  {
   "cell_type": "markdown",
   "metadata": {},
   "source": [
    "### 파이썬 알고리즘 6장: 문자열 조작"
   ]
  },
  {
   "cell_type": "markdown",
   "metadata": {},
   "source": [
    "#### 팰린드롬"
   ]
  },
  {
   "cell_type": "markdown",
   "metadata": {},
   "source": [
    "앞뒤가 똑같은 단어나 문장으로, 뒤집어도 같은 단어 또는 문장을 팰린드롬이라고 한다."
   ]
  },
  {
   "cell_type": "code",
   "execution_count": 12,
   "metadata": {},
   "outputs": [],
   "source": [
    "def isPalindrome(s:str) -> bool:\n",
    "    chars =[]\n",
    "    for char in s:\n",
    "        if char.isalnum():\n",
    "            chars.append(char.lower())\n",
    "    return chars == chars[::-1] #slicing을 통해 문자열을 뒤집어서 비교할 수 있다"
   ]
  },
  {
   "cell_type": "code",
   "execution_count": 16,
   "metadata": {},
   "outputs": [],
   "source": [
    "s = 'race a car'"
   ]
  },
  {
   "cell_type": "code",
   "execution_count": 17,
   "metadata": {},
   "outputs": [
    {
     "data": {
      "text/plain": [
       "False"
      ]
     },
     "execution_count": 17,
     "metadata": {},
     "output_type": "execute_result"
    }
   ],
   "source": [
    "isPalindrome(s)"
   ]
  },
  {
   "cell_type": "markdown",
   "metadata": {},
   "source": [
    "##### 추가문제: 가장 긴 팰린드롬"
   ]
  },
  {
   "cell_type": "markdown",
   "metadata": {},
   "source": [
    "*링크 : <https://programmers.co.kr/learn/courses/30/lessons/12904>"
   ]
  },
  {
   "cell_type": "markdown",
   "metadata": {},
   "source": [
    "저는 아직 푸는 방법을 몰라 다른분의 해답을 참고하여 코드를 뜯어 이해하는 방법을 선택했습니다."
   ]
  },
  {
   "cell_type": "code",
   "execution_count": 27,
   "metadata": {},
   "outputs": [],
   "source": [
    "def longest_palindrom(s):\n",
    "    length =len(s) # length라는 함수에 s의 길이를 값으로 할당한다\n",
    "    \n",
    "    subs = [s[i:j+1] for i in range(length) for j in range(i,length)] # 첫번째 글자부터 끝까지, 두번째 글자부터 끌까지 이런 형태의 리스트가 반환된다\n",
    "    \n",
    "    max = 0\n",
    "    for sub in subs:\n",
    "        if sub == sub[::-1] and max <= len(sub): # sub와 sub[::-1]이 같고 sub의 길이가 max 보다 크거나 같다면\n",
    "            max = len(sub) #제일 긴 값을 찾는거기 때문에 max값에 제일긴 palindrom의 숫자가 반영된다\n",
    "    return max\n",
    "            "
   ]
  },
  {
   "cell_type": "code",
   "execution_count": 28,
   "metadata": {},
   "outputs": [
    {
     "name": "stdout",
     "output_type": "stream",
     "text": [
      "7\n"
     ]
    }
   ],
   "source": [
    "print(longest_palindrom(\"토마토맛토마토\"))"
   ]
  }
 ],
 "metadata": {
  "kernelspec": {
   "display_name": "Python 3",
   "language": "python",
   "name": "python3"
  },
  "language_info": {
   "codemirror_mode": {
    "name": "ipython",
    "version": 3
   },
   "file_extension": ".py",
   "mimetype": "text/x-python",
   "name": "python",
   "nbconvert_exporter": "python",
   "pygments_lexer": "ipython3",
   "version": "3.7.6"
  },
  "toc": {
   "base_numbering": 1,
   "nav_menu": {},
   "number_sections": true,
   "sideBar": true,
   "skip_h1_title": false,
   "title_cell": "Table of Contents",
   "title_sidebar": "Contents",
   "toc_cell": false,
   "toc_position": {},
   "toc_section_display": true,
   "toc_window_display": false
  },
  "varInspector": {
   "cols": {
    "lenName": 16,
    "lenType": 16,
    "lenVar": 40
   },
   "kernels_config": {
    "python": {
     "delete_cmd_postfix": "",
     "delete_cmd_prefix": "del ",
     "library": "var_list.py",
     "varRefreshCmd": "print(var_dic_list())"
    },
    "r": {
     "delete_cmd_postfix": ") ",
     "delete_cmd_prefix": "rm(",
     "library": "var_list.r",
     "varRefreshCmd": "cat(var_dic_list()) "
    }
   },
   "types_to_exclude": [
    "module",
    "function",
    "builtin_function_or_method",
    "instance",
    "_Feature"
   ],
   "window_display": false
  }
 },
 "nbformat": 4,
 "nbformat_minor": 4
}
