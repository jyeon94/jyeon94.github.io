{
 "cells": [
  {
   "cell_type": "markdown",
   "metadata": {},
   "source": [
    "### 파이썬 알고리즘 6장: 문자열 조작"
   ]
  },
  {
   "cell_type": "markdown",
   "metadata": {},
   "source": [
    "#### 팰린드롬"
   ]
  },
  {
   "cell_type": "markdown",
   "metadata": {},
   "source": [
    "앞뒤가 똑같은 단어나 문장으로, 뒤집어도 같은 단어 또는 문장을 팰린드롬이라고 한다."
   ]
  },
  {
   "cell_type": "code",
   "execution_count": 12,
   "metadata": {},
   "outputs": [],
   "source": [
    "def isPalindrome(s:str) -> bool:\n",
    "    chars =[]\n",
    "    for char in s:\n",
    "        if char.isalnum():\n",
    "            chars.append(char.lower())\n",
    "    return chars == chars[::-1] #slicing을 통해 문자열을 뒤집어서 비교할 수 있다"
   ]
  },
  {
   "cell_type": "code",
   "execution_count": 16,
   "metadata": {},
   "outputs": [],
   "source": [
    "s = 'race a car'"
   ]
  },
  {
   "cell_type": "code",
   "execution_count": 17,
   "metadata": {},
   "outputs": [
    {
     "data": {
      "text/plain": [
       "False"
      ]
     },
     "execution_count": 17,
     "metadata": {},
     "output_type": "execute_result"
    }
   ],
   "source": [
    "isPalindrome(s)"
   ]
  },
  {
   "cell_type": "markdown",
   "metadata": {},
   "source": [
    "##### 추가문제: 가장 긴 팰린드롬"
   ]
  },
  {
   "cell_type": "markdown",
   "metadata": {},
   "source": [
    "*링크 : <https://programmers.co.kr/learn/courses/30/lessons/12904>"
   ]
  },
  {
   "cell_type": "markdown",
   "metadata": {},
   "source": [
    "저는 아직 푸는 방법을 몰라 다른분의 해답을 참고하여 코드를 뜯어 이해하는 방법을 선택했습니다."
   ]
  },
  {
   "cell_type": "code",
   "execution_count": 1,
   "metadata": {},
   "outputs": [],
   "source": [
    "def longest_palindrom(s:str)->int:\n",
    "    length =len(s) # length라는 함수에 s의 길이를 값으로 할당한다\n",
    "    \n",
    "    subs = [s[i:j+1] for i in range(length) for j in range(i,length)] # 첫번째 글자부터 끝까지, 두번째 글자부터 끌까지 이런 형태의 리스트가 반환된다\n",
    "    \n",
    "    max = 0\n",
    "    for sub in subs:\n",
    "        if sub == sub[::-1] and max <= len(sub): # sub와 sub[::-1]이 같고 sub의 길이가 max 보다 크거나 같다면\n",
    "            max = len(sub) #제일 긴 값을 찾는거기 때문에 max값에 제일긴 palindrom의 숫자가 반영된다\n",
    "    return max\n",
    "            "
   ]
  },
  {
   "cell_type": "code",
   "execution_count": 2,
   "metadata": {},
   "outputs": [
    {
     "name": "stdout",
     "output_type": "stream",
     "text": [
      "7\n"
     ]
    }
   ],
   "source": [
    "print(longest_palindrom(\"토마토맛토마토\"))"
   ]
  },
  {
   "cell_type": "markdown",
   "metadata": {},
   "source": [
    "#### 문자열 뒤집기"
   ]
  },
  {
   "cell_type": "code",
   "execution_count": 17,
   "metadata": {},
   "outputs": [],
   "source": [
    "def reverse(s):\n",
    "    s[:] = s[::-1]\n",
    "    return s"
   ]
  },
  {
   "cell_type": "code",
   "execution_count": 25,
   "metadata": {},
   "outputs": [],
   "source": [
    "s = ['h','e','l','l','o']"
   ]
  },
  {
   "cell_type": "code",
   "execution_count": 19,
   "metadata": {},
   "outputs": [
    {
     "data": {
      "text/plain": [
       "['o', 'l', 'l', 'e', 'h']"
      ]
     },
     "execution_count": 19,
     "metadata": {},
     "output_type": "execute_result"
    }
   ],
   "source": [
    "reverse(s)"
   ]
  },
  {
   "cell_type": "code",
   "execution_count": 26,
   "metadata": {},
   "outputs": [],
   "source": [
    "def reverse(s):\n",
    "    s.reverse()\n",
    "    return s"
   ]
  },
  {
   "cell_type": "code",
   "execution_count": 27,
   "metadata": {},
   "outputs": [
    {
     "data": {
      "text/plain": [
       "['o', 'l', 'l', 'e', 'h']"
      ]
     },
     "execution_count": 27,
     "metadata": {},
     "output_type": "execute_result"
    }
   ],
   "source": [
    "reverse(s)"
   ]
  },
  {
   "cell_type": "markdown",
   "metadata": {},
   "source": [
    "#### 로그파일 재정렬"
   ]
  },
  {
   "cell_type": "markdown",
   "metadata": {},
   "source": [
    "*문제 : <https://leetcode.com/problems/reorder-data-in-log-files/>"
   ]
  },
  {
   "cell_type": "markdown",
   "metadata": {},
   "source": [
    "Each word after the identifier will consist only of lowercase letters, or; <br/>\n",
    "Each word after the identifier will consist only of digits. <br/>\n",
    "The letter-logs are ordered lexicographically ignoring identifier, with the identifier used in case of ties. <br/>\n",
    "The digit-logs should be put in their original order."
   ]
  },
  {
   "cell_type": "code",
   "execution_count": 52,
   "metadata": {},
   "outputs": [],
   "source": [
    "logs = [\"dig1 8 1 5 1\",\"let1 art can\",\"dig2 3 6\",\"let2 own kit dig\",\"let3 art zero\"]"
   ]
  },
  {
   "cell_type": "code",
   "execution_count": 63,
   "metadata": {},
   "outputs": [],
   "source": [
    "#LeetCode 해설\n",
    "class Solution(object):\n",
    "    def reorderLogFiles(self, logs):\n",
    "        def f(log):\n",
    "            id_, rest = log.split(\" \", 1) #logs의 각 원소들을 \" \"로 나누고 split은 한번만 하여 앞값은 id_에 뒷값은 rest에 할당한다\n",
    "            return (0, rest, id_) if rest[0].isalpha() else (1,) #rest가 문자이면 앞에 배치하고 아니면 뒤에 배치한다\n",
    "\n",
    "        return sorted(logs, key = f)"
   ]
  },
  {
   "cell_type": "code",
   "execution_count": 65,
   "metadata": {},
   "outputs": [],
   "source": [
    "a = Solution()"
   ]
  },
  {
   "cell_type": "code",
   "execution_count": 66,
   "metadata": {},
   "outputs": [
    {
     "data": {
      "text/plain": [
       "['let1 art can',\n",
       " 'let3 art zero',\n",
       " 'let2 own kit dig',\n",
       " 'dig1 8 1 5 1',\n",
       " 'dig2 3 6']"
      ]
     },
     "execution_count": 66,
     "metadata": {},
     "output_type": "execute_result"
    }
   ],
   "source": [
    "a.reorderLogFiles(logs)"
   ]
  },
  {
   "cell_type": "code",
   "execution_count": 90,
   "metadata": {},
   "outputs": [],
   "source": [
    "# 책 해설\n",
    "def reorderLogFiles(logs):\n",
    "    letters,digits = [],[]\n",
    "    for log in logs:\n",
    "        if log.split()[1].isdigit(): #공백으로 나눈것 중 두번째(파이썬은 0이 첫번째 인자이다) 인자가 숫자면\n",
    "            digits.append(log) # digits에 log를 추가한다\n",
    "        else:\n",
    "            letters.append(log) #공백으로 나눈것 중 두번째 인자가 숫자가 아니면\n",
    "            \n",
    "    letters.sort(key= lambda x: (x.split()[1:],x.split()[0])) # letters를 식별자를 제외한 문자열[1:]을 키로 하여 정렬하며, 동일한 경우 식별자로 정리한다\n",
    "    return letters + digits # 문자로 구성된 로그가 숫자 로그보다 앞에 나와야 하고 숫자 로그는 원래 배치되로 유지어야 한다"
   ]
  },
  {
   "cell_type": "code",
   "execution_count": 89,
   "metadata": {},
   "outputs": [
    {
     "data": {
      "text/plain": [
       "['let1 art can',\n",
       " 'let3 art zero',\n",
       " 'let2 own kit dig',\n",
       " 'dig1 8 1 5 1',\n",
       " 'dig2 3 6']"
      ]
     },
     "execution_count": 89,
     "metadata": {},
     "output_type": "execute_result"
    }
   ],
   "source": [
    "reorderLogFiles(logs)"
   ]
  },
  {
   "cell_type": "markdown",
   "metadata": {},
   "source": [
    "#### 가장 흔한 단어"
   ]
  },
  {
   "cell_type": "markdown",
   "metadata": {},
   "source": [
    "*문제: <https://leetcode.com/problems/most-common-word/>"
   ]
  },
  {
   "cell_type": "markdown",
   "metadata": {},
   "source": [
    "Words in the list of banned words are given in lowercase, and free of punctuation.  Words in the paragraph are not case sensitive.  The answer is in lowercase."
   ]
  },
  {
   "cell_type": "code",
   "execution_count": 137,
   "metadata": {},
   "outputs": [],
   "source": [
    "import re\n",
    "from collections import Counter\n",
    "import string\n",
    "from typing import List"
   ]
  },
  {
   "cell_type": "code",
   "execution_count": 95,
   "metadata": {},
   "outputs": [],
   "source": [
    "paragraph = \"Bob hit a ball, the hit BALL flew far after it was hit\"\n",
    "banned = [\"hit\"]"
   ]
  },
  {
   "cell_type": "code",
   "execution_count": 138,
   "metadata": {},
   "outputs": [],
   "source": [
    "def mostCommonWord(paragraph:str,banned: List[str])->str:\n",
    "    #구두점 제거, 소문자화 및 banned에 있는 단어 제거\n",
    "    normalized = ' '.join(word.strip(string.punctuation) for word in paragraph.lower().split() if word not in banned ).split() \n",
    "    counters = Counter(normalized) # Counter함수를 활용하여 각 인자가 몇번 있는지 확인할 수 있다\n",
    "    return counters.most_common(1)[0][0] #첫번째 값이 제일 많이 등장하는 단어이기 때문에 (1)로 그 값을 선택하고 리스트 안에 있는 튜플에서 단어를 추출한다"
   ]
  },
  {
   "cell_type": "markdown",
   "metadata": {},
   "source": [
    "#### 그룹애너그램"
   ]
  },
  {
   "cell_type": "markdown",
   "metadata": {},
   "source": [
    "*문제 : <https://leetcode.com/problems/group-anagrams/>"
   ]
  },
  {
   "cell_type": "code",
   "execution_count": 141,
   "metadata": {},
   "outputs": [],
   "source": [
    "from collections import defaultdict"
   ]
  },
  {
   "cell_type": "code",
   "execution_count": 143,
   "metadata": {},
   "outputs": [],
   "source": [
    "word_list = ['eat','tea','tan','ate','nate','bat']"
   ]
  },
  {
   "cell_type": "code",
   "execution_count": 157,
   "metadata": {},
   "outputs": [],
   "source": [
    "# 책 풀이\n",
    "def groupAnagrams(strs:List[str]) -> List[List[str]]:\n",
    "    temp = defaultdict(list) # 딕셔너리를 생성한다\n",
    "    \n",
    "    for i in strs:\n",
    "        temp[''.join(sorted(i))].append(i) # word_list의 각각의 원소들을 알파벳순으로 정렬하여 딕셔너리의 키값으로 하고 정렬하지 않은 값을 value로 넣는다\n",
    "                                              # 이렇게 하면 애너그램끼리는 같은 키값을 갖게 된다\n",
    "    \n",
    "    return temp.values() #리스트를 반환한다"
   ]
  },
  {
   "cell_type": "code",
   "execution_count": 156,
   "metadata": {},
   "outputs": [
    {
     "data": {
      "text/plain": [
       "dict_values([['eat', 'tea', 'ate'], ['tan'], ['nate'], ['bat']])"
      ]
     },
     "execution_count": 156,
     "metadata": {},
     "output_type": "execute_result"
    }
   ],
   "source": [
    "groupAnagrams(word_list)"
   ]
  }
 ],
 "metadata": {
  "kernelspec": {
   "display_name": "Python 3",
   "language": "python",
   "name": "python3"
  },
  "language_info": {
   "codemirror_mode": {
    "name": "ipython",
    "version": 3
   },
   "file_extension": ".py",
   "mimetype": "text/x-python",
   "name": "python",
   "nbconvert_exporter": "python",
   "pygments_lexer": "ipython3",
   "version": "3.7.6"
  },
  "toc": {
   "base_numbering": 1,
   "nav_menu": {},
   "number_sections": true,
   "sideBar": true,
   "skip_h1_title": false,
   "title_cell": "Table of Contents",
   "title_sidebar": "Contents",
   "toc_cell": false,
   "toc_position": {},
   "toc_section_display": true,
   "toc_window_display": false
  },
  "varInspector": {
   "cols": {
    "lenName": 16,
    "lenType": 16,
    "lenVar": 40
   },
   "kernels_config": {
    "python": {
     "delete_cmd_postfix": "",
     "delete_cmd_prefix": "del ",
     "library": "var_list.py",
     "varRefreshCmd": "print(var_dic_list())"
    },
    "r": {
     "delete_cmd_postfix": ") ",
     "delete_cmd_prefix": "rm(",
     "library": "var_list.r",
     "varRefreshCmd": "cat(var_dic_list()) "
    }
   },
   "types_to_exclude": [
    "module",
    "function",
    "builtin_function_or_method",
    "instance",
    "_Feature"
   ],
   "window_display": false
  }
 },
 "nbformat": 4,
 "nbformat_minor": 4
}
