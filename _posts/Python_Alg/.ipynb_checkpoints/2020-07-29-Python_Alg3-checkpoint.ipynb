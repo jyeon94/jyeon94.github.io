{
 "cells": [
  {
   "cell_type": "markdown",
   "metadata": {},
   "source": [
    "### 파이썬 알고리즘 인터뷰 7장: 배열"
   ]
  },
  {
   "cell_type": "markdown",
   "metadata": {},
   "source": [
    "#### 배열"
   ]
  },
  {
   "cell_type": "markdown",
   "metadata": {},
   "source": [
    "배열은 값 또는 변수 앨리먼트의 집합으로 구성된 구조로, 하나 이상의 인덱스 또는 키로 식별된다."
   ]
  },
  {
   "cell_type": "markdown",
   "metadata": {},
   "source": [
    "- 실제 데이터에서는 전체 크기를 가늠하기 힘들 때가 많다. 때로는 너무 작은 영역을 할당하여 모자라거나, 너무 많은 영역을 할당하여\n",
    "낭비될 때도 있다"
   ]
  },
  {
   "cell_type": "markdown",
   "metadata": {},
   "source": [
    "- 이를 위해 미리 크기를 지정하지 않고 자동으로 조정할 수 있는 배열인 동적 배열이 등장했다(파이썬에는 리스트가 바로 동적 배열 자료형이다)"
   ]
  },
  {
   "cell_type": "markdown",
   "metadata": {},
   "source": [
    "##### 동적배열"
   ]
  },
  {
   "cell_type": "markdown",
   "metadata": {},
   "source": [
    "미리 초깃값을 작게 잡아 배열을 생성하고, 데이터가 추가 되면서 꽉 채워지면, 늘려주고 모두 복사하는 방식이다."
   ]
  },
  {
   "cell_type": "markdown",
   "metadata": {},
   "source": [
    "#### 문제"
   ]
  },
  {
   "cell_type": "markdown",
   "metadata": {},
   "source": [
    "##### Q.01 두 수의 합"
   ]
  },
  {
   "cell_type": "markdown",
   "metadata": {},
   "source": [
    "*문제: <https://leetcode.com/problems/two-sum/>"
   ]
  },
  {
   "cell_type": "code",
   "execution_count": 2,
   "metadata": {},
   "outputs": [],
   "source": [
    "from typing import List"
   ]
  },
  {
   "cell_type": "code",
   "execution_count": 4,
   "metadata": {},
   "outputs": [],
   "source": [
    "nums = [2,7,11,15]\n",
    "target = 9"
   ]
  },
  {
   "cell_type": "markdown",
   "metadata": {},
   "source": [
    "저 리스트값 중 두 값을 더하여 타겟값이 반환되는 함수를 작성해야 한다"
   ]
  },
  {
   "cell_type": "code",
   "execution_count": 6,
   "metadata": {},
   "outputs": [],
   "source": [
    "# 첫 번째 방식(전체 탐색)\n",
    "def twoSum(nums: List[int], target: int) -> List[int]:\n",
    "    for i in range(len(nums)):\n",
    "        for j in range(i+1,len(nums)):\n",
    "            if nums[i] + nums[j] == target:\n",
    "                return(i,j)"
   ]
  },
  {
   "cell_type": "code",
   "execution_count": 7,
   "metadata": {},
   "outputs": [
    {
     "data": {
      "text/plain": [
       "(0, 1)"
      ]
     },
     "execution_count": 7,
     "metadata": {},
     "output_type": "execute_result"
    }
   ],
   "source": [
    "twoSum(nums,target)"
   ]
  },
  {
   "cell_type": "markdown",
   "metadata": {},
   "source": [
    "하지만 위 방법은 리스트가 복잡해질 수록 시간복잡도가 올라간다"
   ]
  },
  {
   "cell_type": "code",
   "execution_count": 8,
   "metadata": {},
   "outputs": [],
   "source": [
    "# 두 번째 방식\n",
    "# dictionary 방식 활용(LeetCode 해설)\n",
    "def twoSum(nums: List[int],target: int)-> List[int]:\n",
    "    lst = {}\n",
    "    for i,v in enumerate(nums):\n",
    "        diff = target - v #target값에서 nums의 원소값을 빼면 자연스럽게 두 번째 수를 찾을 수 있습니다.\n",
    "        if diff in lst:\n",
    "            return [lst[diff],i]\n",
    "        if v not in lst:\n",
    "            lst[v] = i # lst에 v값이 없으면 v값을 key로 index 위치를 value로 지정한다\n",
    "    return []"
   ]
  },
  {
   "cell_type": "markdown",
   "metadata": {},
   "source": [
    "##### 빗물 트래핑"
   ]
  },
  {
   "cell_type": "markdown",
   "metadata": {},
   "source": [
    "*문제: <https://leetcode.com/problems/trapping-rain-water/>"
   ]
  },
  {
   "cell_type": "code",
   "execution_count": 10,
   "metadata": {},
   "outputs": [],
   "source": [
    "#책 해설(투 포인터를 활용한 코드)\n",
    "def trap(height: List[int])->int:\n",
    "    if not height: #빈리스트 이면 0을 반환하라\n",
    "        return 0\n",
    "    \n",
    "    volume = 0\n",
    "    left, right = 0, len(height) - 1 #왼쪽점과 오른쪽 점\n",
    "    left_max, right_max = height[left], height[right] #왼쪽값과 오른쪽 값\n",
    "    \n",
    "    while left < right: #왼쪽값이 오른쪽 값보다 작을동안\n",
    "        left_max,right_max = max(height[left],left_max), max(height[right],right_max)\n",
    "        # height[left]와 left_max 중 max 값을 찾아서 left_max에 할당 right_max도 동일한 방식으로 할당\n",
    "        \n",
    "        # 더 높은 쪽을 향해 투 포인터 이동\n",
    "        if left_max <= right_max: #left_max가 right_max보다 작거나 같으면\n",
    "            volume += left_max - height[left] #빗방울의 볼륨은 left_max - hieght[left]이 된다\n",
    "            left += 1 #그 후 left에 1을 더한다\n",
    "        else: # 위의 조건이 성립되지 않는다면\n",
    "            volume += right_max - height[right] #빗방울의 볼륨은 right_max - height[right]이 된다 \n",
    "            right -= 1#그 후 right에서 1을 뺀ㄷ\n",
    "            \n",
    "      # 점점 포인터들이 중앙으로 모이게 된다\n",
    "    return volume"
   ]
  },
  {
   "cell_type": "code",
   "execution_count": 11,
   "metadata": {},
   "outputs": [],
   "source": [
    "height = [0,1,0,2,1,0,1,3,2,1,2,1]"
   ]
  },
  {
   "cell_type": "code",
   "execution_count": 12,
   "metadata": {},
   "outputs": [
    {
     "data": {
      "text/plain": [
       "6"
      ]
     },
     "execution_count": 12,
     "metadata": {},
     "output_type": "execute_result"
    }
   ],
   "source": [
    "trap(height)"
   ]
  },
  {
   "cell_type": "markdown",
   "metadata": {},
   "source": [
    "##### 배열 파티션 I"
   ]
  },
  {
   "cell_type": "markdown",
   "metadata": {},
   "source": [
    "n개의 페어를 이용한 min(a,b)의 합으로 만들 수 있는 가장 큰 수를 출력하라"
   ]
  },
  {
   "cell_type": "markdown",
   "metadata": {},
   "source": [
    "*문제:<https://leetcode.com/problems/array-partition-i/>"
   ]
  },
  {
   "cell_type": "code",
   "execution_count": 1,
   "metadata": {},
   "outputs": [],
   "source": [
    "nums = [1,4,3,2]"
   ]
  },
  {
   "cell_type": "code",
   "execution_count": 5,
   "metadata": {},
   "outputs": [],
   "source": [
    "def arrayPairSum(nums: List[int])-> int:\n",
    "    nums.sort()\n",
    "    return sum(nums[::2]) #sorting된 리스트에서 짝수번째 (0,2,4)가 최솟값이므로 두값을 더하면 페어의 min값을 더하는것과 같다"
   ]
  },
  {
   "cell_type": "code",
   "execution_count": 6,
   "metadata": {},
   "outputs": [
    {
     "data": {
      "text/plain": [
       "4"
      ]
     },
     "execution_count": 6,
     "metadata": {},
     "output_type": "execute_result"
    }
   ],
   "source": [
    "arrayPairSum(nums)"
   ]
  },
  {
   "cell_type": "markdown",
   "metadata": {},
   "source": [
    "##### 자신을 제외한 배열의 곱"
   ]
  },
  {
   "cell_type": "markdown",
   "metadata": {},
   "source": [
    "*문제: <https://leetcode.com/problems/product-of-array-except-self/>"
   ]
  },
  {
   "cell_type": "markdown",
   "metadata": {},
   "source": [
    "나눗셈을 하지 않고 O(n)에 풀이해야 한다"
   ]
  },
  {
   "cell_type": "code",
   "execution_count": 11,
   "metadata": {},
   "outputs": [],
   "source": [
    "# Leet Code Solution 참고\n",
    "def productExceptSelf(nums:List[int]) -> List[int]:\n",
    "    length = len(nums)\n",
    "    \n",
    "    answer = [0] * length #nums 길이에 따른 list가 생성된다\n",
    "    #index0에는 왼쪽값이 없기 때문에 곱은 1이 될것이다\n",
    "    answer[0] = 1\n",
    "    \n",
    "    # answer[i-1]은 i의 왼쪽 값을 원소로 갖고 있기 때문에\n",
    "    # nums[i-1]를 곱하면 i의 왼쪽의 모든 원소가 반환될 것이다\n",
    "    for i in range(1, length):\n",
    "        answer[i] = answer[i-1] * nums[i-1]\n",
    "    rightProduct = 1\n",
    "    for i in reversed(range(length)):\n",
    "        answer[i] = answer[i] * rightProduct\n",
    "        rightProduct *= nums[i]\n",
    "    return answer"
   ]
  },
  {
   "cell_type": "code",
   "execution_count": 14,
   "metadata": {},
   "outputs": [],
   "source": [
    "nums = [1,2,3,4]"
   ]
  },
  {
   "cell_type": "code",
   "execution_count": 16,
   "metadata": {},
   "outputs": [],
   "source": [
    "length = len(nums)"
   ]
  },
  {
   "cell_type": "code",
   "execution_count": 17,
   "metadata": {},
   "outputs": [
    {
     "name": "stdout",
     "output_type": "stream",
     "text": [
      "3\n",
      "2\n",
      "1\n",
      "0\n"
     ]
    }
   ],
   "source": [
    "for i in reversed(range(length)):\n",
    "    print(i)"
   ]
  }
 ],
 "metadata": {
  "kernelspec": {
   "display_name": "Python 3",
   "language": "python",
   "name": "python3"
  },
  "language_info": {
   "codemirror_mode": {
    "name": "ipython",
    "version": 3
   },
   "file_extension": ".py",
   "mimetype": "text/x-python",
   "name": "python",
   "nbconvert_exporter": "python",
   "pygments_lexer": "ipython3",
   "version": "3.7.6"
  },
  "toc": {
   "base_numbering": 1,
   "nav_menu": {},
   "number_sections": true,
   "sideBar": true,
   "skip_h1_title": false,
   "title_cell": "Table of Contents",
   "title_sidebar": "Contents",
   "toc_cell": false,
   "toc_position": {},
   "toc_section_display": true,
   "toc_window_display": false
  },
  "varInspector": {
   "cols": {
    "lenName": 16,
    "lenType": 16,
    "lenVar": 40
   },
   "kernels_config": {
    "python": {
     "delete_cmd_postfix": "",
     "delete_cmd_prefix": "del ",
     "library": "var_list.py",
     "varRefreshCmd": "print(var_dic_list())"
    },
    "r": {
     "delete_cmd_postfix": ") ",
     "delete_cmd_prefix": "rm(",
     "library": "var_list.r",
     "varRefreshCmd": "cat(var_dic_list()) "
    }
   },
   "types_to_exclude": [
    "module",
    "function",
    "builtin_function_or_method",
    "instance",
    "_Feature"
   ],
   "window_display": false
  }
 },
 "nbformat": 4,
 "nbformat_minor": 4
}
