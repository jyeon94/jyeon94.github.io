{
 "cells": [
  {
   "cell_type": "markdown",
   "metadata": {},
   "source": [
    "### 딩고 프리스타일 간단한 분석"
   ]
  },
  {
   "cell_type": "markdown",
   "metadata": {},
   "source": [
    "데이터는 전 유튜브 크롤링한 데이터를 기반으로 했습니다."
   ]
  },
  {
   "cell_type": "markdown",
   "metadata": {},
   "source": [
    "*참고: <https://shinminyong.tistory.com/10?category=835486>"
   ]
  },
  {
   "cell_type": "code",
   "execution_count": 1,
   "metadata": {},
   "outputs": [
    {
     "name": "stdout",
     "output_type": "stream",
     "text": [
      "Requirement already satisfied: konlpy in c:\\users\\lg\\anaconda3\\lib\\site-packages (0.5.1)\n",
      "Requirement already satisfied: JPype1>=0.5.7 in c:\\users\\lg\\anaconda3\\lib\\site-packages (from konlpy) (0.7.0)\n",
      "Note: you may need to restart the kernel to use updated packages.\n"
     ]
    }
   ],
   "source": [
    "pip install konlpy"
   ]
  },
  {
   "cell_type": "code",
   "execution_count": 2,
   "metadata": {},
   "outputs": [],
   "source": [
    "import pandas as pd\n",
    "import seaborn as sns\n",
    "import re\n",
    "from konlpy.tag import Kkma"
   ]
  },
  {
   "cell_type": "code",
   "execution_count": 3,
   "metadata": {},
   "outputs": [],
   "source": [
    "# 데이터 로드\n",
    "dingo = pd.read_csv(\"dingo.csv\")"
   ]
  },
  {
   "cell_type": "code",
   "execution_count": 4,
   "metadata": {},
   "outputs": [
    {
     "data": {
      "text/html": [
       "<div>\n",
       "<style scoped>\n",
       "    .dataframe tbody tr th:only-of-type {\n",
       "        vertical-align: middle;\n",
       "    }\n",
       "\n",
       "    .dataframe tbody tr th {\n",
       "        vertical-align: top;\n",
       "    }\n",
       "\n",
       "    .dataframe thead th {\n",
       "        text-align: right;\n",
       "    }\n",
       "</style>\n",
       "<table border=\"1\" class=\"dataframe\">\n",
       "  <thead>\n",
       "    <tr style=\"text-align: right;\">\n",
       "      <th></th>\n",
       "      <th>name</th>\n",
       "      <th>thumbnail</th>\n",
       "      <th>view</th>\n",
       "      <th>previous_time</th>\n",
       "      <th>video_url</th>\n",
       "      <th>start_date</th>\n",
       "      <th>comment</th>\n",
       "      <th>likes_num</th>\n",
       "      <th>unlikes_num</th>\n",
       "    </tr>\n",
       "  </thead>\n",
       "  <tbody>\n",
       "    <tr>\n",
       "      <th>0</th>\n",
       "      <td>세상에 공개 되면 안 되는 미방분 모음! / [영리한 문제아들] 비하인드 : 미방분...</td>\n",
       "      <td>https://i.ytimg.com/vi/hDRlWn78e6A/hqdefault.j...</td>\n",
       "      <td>8.7만회</td>\n",
       "      <td>16시간 전</td>\n",
       "      <td>http://www.youtube.com/watch?v=hDRlWn78e6A</td>\n",
       "      <td>•2020. 6. 7.</td>\n",
       "      <td>댓글 451개</td>\n",
       "      <td>2.3천개</td>\n",
       "      <td>24개</td>\n",
       "    </tr>\n",
       "    <tr>\n",
       "      <th>1</th>\n",
       "      <td>이 집 제육볶음 잘 하네... I [어이~ 오씨~] 오담률 (김농밀) I TEASER</td>\n",
       "      <td>https://i.ytimg.com/vi/-biNhiZx3SU/hqdefault.j...</td>\n",
       "      <td>18만회</td>\n",
       "      <td>3일 전</td>\n",
       "      <td>http://www.youtube.com/watch?v=-biNhiZx3SU</td>\n",
       "      <td>•2020. 6. 5.</td>\n",
       "      <td>댓글 864개</td>\n",
       "      <td>2.6천개</td>\n",
       "      <td>51개</td>\n",
       "    </tr>\n",
       "    <tr>\n",
       "      <th>2</th>\n",
       "      <td>나이 많은 사람은 힙합을 싫어한다고?! 트로트랩을 들은 어르신들의 반응은 과연......</td>\n",
       "      <td>https://i.ytimg.com/vi/FgZjW_QMTW8/hqdefault.j...</td>\n",
       "      <td>20만회</td>\n",
       "      <td>4일 전</td>\n",
       "      <td>http://www.youtube.com/watch?v=FgZjW_QMTW8</td>\n",
       "      <td>•2020. 6. 4.</td>\n",
       "      <td>댓글 1,590개</td>\n",
       "      <td>4.3천개</td>\n",
       "      <td>63개</td>\n",
       "    </tr>\n",
       "    <tr>\n",
       "      <th>3</th>\n",
       "      <td>[4K] MBC 힙합걸Z (브린(Bryn), 하선호(Sandy), 이영지)의 킬링벌...</td>\n",
       "      <td>https://i.ytimg.com/vi/UDex1bH2vbM/hqdefault.j...</td>\n",
       "      <td>122만회</td>\n",
       "      <td>1주 전</td>\n",
       "      <td>http://www.youtube.com/watch?v=UDex1bH2vbM</td>\n",
       "      <td>•최초 공개: 2020. 5. 29.</td>\n",
       "      <td>댓글 6,339개</td>\n",
       "      <td>2.8만개</td>\n",
       "      <td>710개</td>\n",
       "    </tr>\n",
       "    <tr>\n",
       "      <th>4</th>\n",
       "      <td>남초 회사 근무중... 어떤 오빠가 제일 문제일까? | [영리한 문제아들 EP.4]...</td>\n",
       "      <td>https://i.ytimg.com/vi/JLjQMj9uidM/hqdefault.j...</td>\n",
       "      <td>38만회</td>\n",
       "      <td>1주 전</td>\n",
       "      <td>http://www.youtube.com/watch?v=JLjQMj9uidM</td>\n",
       "      <td>•최초 공개: 2020. 5. 28.</td>\n",
       "      <td>댓글 1,971개</td>\n",
       "      <td>6.6천개</td>\n",
       "      <td>125개</td>\n",
       "    </tr>\n",
       "    <tr>\n",
       "      <th>5</th>\n",
       "      <td>Rohann (이로한)의 첫 정규앨범 NEVERLAND✨✨ | [집에 갈래?] 변하...</td>\n",
       "      <td>https://i.ytimg.com/vi/hjzKy20G6Lg/hqdefault.j...</td>\n",
       "      <td>11만회</td>\n",
       "      <td>1주 전</td>\n",
       "      <td>http://www.youtube.com/watch?v=hjzKy20G6Lg</td>\n",
       "      <td>•2020. 5. 27.</td>\n",
       "      <td>댓글 391개</td>\n",
       "      <td>2.4천개</td>\n",
       "      <td>28개</td>\n",
       "    </tr>\n",
       "    <tr>\n",
       "      <th>6</th>\n",
       "      <td>수퍼비, 트월킹이다 질문받는다 | [영리한 문제아들] 비하인드 : 댓글 읽기</td>\n",
       "      <td>https://i.ytimg.com/vi/r_5gsfcH-Wg/hqdefault.j...</td>\n",
       "      <td>25만회</td>\n",
       "      <td>1주 전</td>\n",
       "      <td>http://www.youtube.com/watch?v=r_5gsfcH-Wg</td>\n",
       "      <td>•2020. 5. 26.</td>\n",
       "      <td>댓글 1,960개</td>\n",
       "      <td>5.4천개</td>\n",
       "      <td>78개</td>\n",
       "    </tr>\n",
       "    <tr>\n",
       "      <th>7</th>\n",
       "      <td>(전) 던밀스 (역)🎉🎉  드디어 싹이 보이는 딩고 VMC 콜라보...? / [던밀...</td>\n",
       "      <td>https://i.ytimg.com/vi/TxevvmA4uho/hqdefault.j...</td>\n",
       "      <td>32만회</td>\n",
       "      <td>2주 전</td>\n",
       "      <td>http://www.youtube.com/watch?v=TxevvmA4uho</td>\n",
       "      <td>•2020. 5. 25.</td>\n",
       "      <td>댓글 1,262개</td>\n",
       "      <td>5.3천개</td>\n",
       "      <td>67개</td>\n",
       "    </tr>\n",
       "    <tr>\n",
       "      <th>8</th>\n",
       "      <td>트로트랩 (Melody Ver.) | [Official Lyric Video] 수퍼...</td>\n",
       "      <td>https://i.ytimg.com/vi/NE8rtMcB15A/hqdefault.j...</td>\n",
       "      <td>46만회</td>\n",
       "      <td>2주 전</td>\n",
       "      <td>http://www.youtube.com/watch?v=NE8rtMcB15A</td>\n",
       "      <td>•2020. 5. 23.</td>\n",
       "      <td>댓글 2,970개</td>\n",
       "      <td>9.1천개</td>\n",
       "      <td>105개</td>\n",
       "    </tr>\n",
       "    <tr>\n",
       "      <th>9</th>\n",
       "      <td>내일 발매될 스월비 정규앨범 미리듣기! I [앨범 스포일러] 스월비 (Swervy)...</td>\n",
       "      <td>https://i.ytimg.com/vi/vbKRXir7114/hqdefault.j...</td>\n",
       "      <td>12만회</td>\n",
       "      <td>2주 전</td>\n",
       "      <td>http://www.youtube.com/watch?v=vbKRXir7114</td>\n",
       "      <td>•2020. 5. 22.</td>\n",
       "      <td>댓글 734개</td>\n",
       "      <td>2.4천개</td>\n",
       "      <td>76개</td>\n",
       "    </tr>\n",
       "    <tr>\n",
       "      <th>10</th>\n",
       "      <td>우리 트웰브 콘서트 갈 건데 트월킹 너도 올래? / [영리한 문제아들] EP.3 비...</td>\n",
       "      <td>https://i.ytimg.com/vi/FQWlTIyBa24/hqdefault.j...</td>\n",
       "      <td>12만회</td>\n",
       "      <td>2주 전</td>\n",
       "      <td>http://www.youtube.com/watch?v=FQWlTIyBa24</td>\n",
       "      <td>•2020. 5. 22.</td>\n",
       "      <td>댓글 1,021개</td>\n",
       "      <td>2.1천개</td>\n",
       "      <td>28개</td>\n",
       "    </tr>\n",
       "    <tr>\n",
       "      <th>11</th>\n",
       "      <td>영앤리치 ______를 속여라! | [영리한 문제아들 EP.3] 트웰브는 아무도 모...</td>\n",
       "      <td>https://i.ytimg.com/vi/A7qyHf5Ljlk/hqdefault.j...</td>\n",
       "      <td>30만회</td>\n",
       "      <td>2주 전</td>\n",
       "      <td>http://www.youtube.com/watch?v=A7qyHf5Ljlk</td>\n",
       "      <td>•최초 공개: 2020. 5. 21.</td>\n",
       "      <td>댓글 2,256개</td>\n",
       "      <td>6천개</td>\n",
       "      <td>77개</td>\n",
       "    </tr>\n",
       "    <tr>\n",
       "      <th>12</th>\n",
       "      <td>※그레이의 첫 번째 자작곡 유출※ / 브이터뷰 [V-Terview]</td>\n",
       "      <td>https://i.ytimg.com/vi/__HnCH0RD1U/hqdefault.j...</td>\n",
       "      <td>18만회</td>\n",
       "      <td>2주 전</td>\n",
       "      <td>http://www.youtube.com/watch?v=__HnCH0RD1U</td>\n",
       "      <td>•2020. 5. 20.</td>\n",
       "      <td>댓글 188개</td>\n",
       "      <td>1.3천개</td>\n",
       "      <td>27개</td>\n",
       "    </tr>\n",
       "    <tr>\n",
       "      <th>13</th>\n",
       "      <td>[4K] 언에듀케이티드 키드의 킬링벌스를 라이브로! | 돈벌러가야대, Uneduca...</td>\n",
       "      <td>https://i.ytimg.com/vi/CxuJQ32ih80/hqdefault.j...</td>\n",
       "      <td>66만회</td>\n",
       "      <td>2주 전</td>\n",
       "      <td>http://www.youtube.com/watch?v=CxuJQ32ih80</td>\n",
       "      <td>•최초 공개: 2020. 5. 19.</td>\n",
       "      <td>댓글 5,262개</td>\n",
       "      <td>1.2만개</td>\n",
       "      <td>1.3천개</td>\n",
       "    </tr>\n",
       "    <tr>\n",
       "      <th>14</th>\n",
       "      <td>비주얼 보이그룹 LEGIT GOONS, 눈물의 데뷔 무대 (w 넉살 전 매니저) I...</td>\n",
       "      <td>https://i.ytimg.com/vi/SsT_850H4Ac/hqdefault.j...</td>\n",
       "      <td>10만회</td>\n",
       "      <td>3주 전</td>\n",
       "      <td>http://www.youtube.com/watch?v=SsT_850H4Ac</td>\n",
       "      <td>•최초 공개: 2020. 5. 15.</td>\n",
       "      <td>댓글 483개</td>\n",
       "      <td>2.3천개</td>\n",
       "      <td>40개</td>\n",
       "    </tr>\n",
       "    <tr>\n",
       "      <th>15</th>\n",
       "      <td>[MV] GRAY - Moon Blue | [DF FILM] DF X GRAY</td>\n",
       "      <td>https://i.ytimg.com/vi/o9E9zsd4IRQ/hqdefault.j...</td>\n",
       "      <td>62만회</td>\n",
       "      <td>3주 전</td>\n",
       "      <td>http://www.youtube.com/watch?v=o9E9zsd4IRQ</td>\n",
       "      <td>•2020. 5. 14.</td>\n",
       "      <td>댓글 1,044개</td>\n",
       "      <td>2.2만개</td>\n",
       "      <td>68개</td>\n",
       "    </tr>\n",
       "  </tbody>\n",
       "</table>\n",
       "</div>"
      ],
      "text/plain": [
       "                                                 name  \\\n",
       "0   세상에 공개 되면 안 되는 미방분 모음! / [영리한 문제아들] 비하인드 : 미방분...   \n",
       "1     이 집 제육볶음 잘 하네... I [어이~ 오씨~] 오담률 (김농밀) I TEASER   \n",
       "2   나이 많은 사람은 힙합을 싫어한다고?! 트로트랩을 들은 어르신들의 반응은 과연......   \n",
       "3   [4K] MBC 힙합걸Z (브린(Bryn), 하선호(Sandy), 이영지)의 킬링벌...   \n",
       "4   남초 회사 근무중... 어떤 오빠가 제일 문제일까? | [영리한 문제아들 EP.4]...   \n",
       "5   Rohann (이로한)의 첫 정규앨범 NEVERLAND✨✨ | [집에 갈래?] 변하...   \n",
       "6          수퍼비, 트월킹이다 질문받는다 | [영리한 문제아들] 비하인드 : 댓글 읽기   \n",
       "7   (전) 던밀스 (역)🎉🎉  드디어 싹이 보이는 딩고 VMC 콜라보...? / [던밀...   \n",
       "8   트로트랩 (Melody Ver.) | [Official Lyric Video] 수퍼...   \n",
       "9   내일 발매될 스월비 정규앨범 미리듣기! I [앨범 스포일러] 스월비 (Swervy)...   \n",
       "10  우리 트웰브 콘서트 갈 건데 트월킹 너도 올래? / [영리한 문제아들] EP.3 비...   \n",
       "11  영앤리치 ______를 속여라! | [영리한 문제아들 EP.3] 트웰브는 아무도 모...   \n",
       "12              ※그레이의 첫 번째 자작곡 유출※ / 브이터뷰 [V-Terview]   \n",
       "13  [4K] 언에듀케이티드 키드의 킬링벌스를 라이브로! | 돈벌러가야대, Uneduca...   \n",
       "14  비주얼 보이그룹 LEGIT GOONS, 눈물의 데뷔 무대 (w 넉살 전 매니저) I...   \n",
       "15        [MV] GRAY - Moon Blue | [DF FILM] DF X GRAY   \n",
       "\n",
       "                                            thumbnail   view previous_time  \\\n",
       "0   https://i.ytimg.com/vi/hDRlWn78e6A/hqdefault.j...  8.7만회        16시간 전   \n",
       "1   https://i.ytimg.com/vi/-biNhiZx3SU/hqdefault.j...   18만회          3일 전   \n",
       "2   https://i.ytimg.com/vi/FgZjW_QMTW8/hqdefault.j...   20만회          4일 전   \n",
       "3   https://i.ytimg.com/vi/UDex1bH2vbM/hqdefault.j...  122만회          1주 전   \n",
       "4   https://i.ytimg.com/vi/JLjQMj9uidM/hqdefault.j...   38만회          1주 전   \n",
       "5   https://i.ytimg.com/vi/hjzKy20G6Lg/hqdefault.j...   11만회          1주 전   \n",
       "6   https://i.ytimg.com/vi/r_5gsfcH-Wg/hqdefault.j...   25만회          1주 전   \n",
       "7   https://i.ytimg.com/vi/TxevvmA4uho/hqdefault.j...   32만회          2주 전   \n",
       "8   https://i.ytimg.com/vi/NE8rtMcB15A/hqdefault.j...   46만회          2주 전   \n",
       "9   https://i.ytimg.com/vi/vbKRXir7114/hqdefault.j...   12만회          2주 전   \n",
       "10  https://i.ytimg.com/vi/FQWlTIyBa24/hqdefault.j...   12만회          2주 전   \n",
       "11  https://i.ytimg.com/vi/A7qyHf5Ljlk/hqdefault.j...   30만회          2주 전   \n",
       "12  https://i.ytimg.com/vi/__HnCH0RD1U/hqdefault.j...   18만회          2주 전   \n",
       "13  https://i.ytimg.com/vi/CxuJQ32ih80/hqdefault.j...   66만회          2주 전   \n",
       "14  https://i.ytimg.com/vi/SsT_850H4Ac/hqdefault.j...   10만회          3주 전   \n",
       "15  https://i.ytimg.com/vi/o9E9zsd4IRQ/hqdefault.j...   62만회          3주 전   \n",
       "\n",
       "                                     video_url            start_date  \\\n",
       "0   http://www.youtube.com/watch?v=hDRlWn78e6A          •2020. 6. 7.   \n",
       "1   http://www.youtube.com/watch?v=-biNhiZx3SU          •2020. 6. 5.   \n",
       "2   http://www.youtube.com/watch?v=FgZjW_QMTW8          •2020. 6. 4.   \n",
       "3   http://www.youtube.com/watch?v=UDex1bH2vbM  •최초 공개: 2020. 5. 29.   \n",
       "4   http://www.youtube.com/watch?v=JLjQMj9uidM  •최초 공개: 2020. 5. 28.   \n",
       "5   http://www.youtube.com/watch?v=hjzKy20G6Lg         •2020. 5. 27.   \n",
       "6   http://www.youtube.com/watch?v=r_5gsfcH-Wg         •2020. 5. 26.   \n",
       "7   http://www.youtube.com/watch?v=TxevvmA4uho         •2020. 5. 25.   \n",
       "8   http://www.youtube.com/watch?v=NE8rtMcB15A         •2020. 5. 23.   \n",
       "9   http://www.youtube.com/watch?v=vbKRXir7114         •2020. 5. 22.   \n",
       "10  http://www.youtube.com/watch?v=FQWlTIyBa24         •2020. 5. 22.   \n",
       "11  http://www.youtube.com/watch?v=A7qyHf5Ljlk  •최초 공개: 2020. 5. 21.   \n",
       "12  http://www.youtube.com/watch?v=__HnCH0RD1U         •2020. 5. 20.   \n",
       "13  http://www.youtube.com/watch?v=CxuJQ32ih80  •최초 공개: 2020. 5. 19.   \n",
       "14  http://www.youtube.com/watch?v=SsT_850H4Ac  •최초 공개: 2020. 5. 15.   \n",
       "15  http://www.youtube.com/watch?v=o9E9zsd4IRQ         •2020. 5. 14.   \n",
       "\n",
       "      comment likes_num unlikes_num  \n",
       "0     댓글 451개     2.3천개         24개  \n",
       "1     댓글 864개     2.6천개         51개  \n",
       "2   댓글 1,590개     4.3천개         63개  \n",
       "3   댓글 6,339개     2.8만개        710개  \n",
       "4   댓글 1,971개     6.6천개        125개  \n",
       "5     댓글 391개     2.4천개         28개  \n",
       "6   댓글 1,960개     5.4천개         78개  \n",
       "7   댓글 1,262개     5.3천개         67개  \n",
       "8   댓글 2,970개     9.1천개        105개  \n",
       "9     댓글 734개     2.4천개         76개  \n",
       "10  댓글 1,021개     2.1천개         28개  \n",
       "11  댓글 2,256개       6천개         77개  \n",
       "12    댓글 188개     1.3천개         27개  \n",
       "13  댓글 5,262개     1.2만개       1.3천개  \n",
       "14    댓글 483개     2.3천개         40개  \n",
       "15  댓글 1,044개     2.2만개         68개  "
      ]
     },
     "execution_count": 4,
     "metadata": {},
     "output_type": "execute_result"
    }
   ],
   "source": [
    "dingo"
   ]
  },
  {
   "cell_type": "markdown",
   "metadata": {},
   "source": [
    "#### 전처리"
   ]
  },
  {
   "cell_type": "code",
   "execution_count": 5,
   "metadata": {},
   "outputs": [],
   "source": [
    "# start_date의 날짜만 남겨놓기 위해 전처리\n",
    "dingo['start_date'] = dingo['start_date'].replace(\"최초 공개\",\"\",regex=True).replace(\"•\",\"\",regex=True).replace(\":\",\"\",regex=True).replace(\"\\.$\",\"\",regex=True).str.replace(\" \",\"\")"
   ]
  },
  {
   "cell_type": "code",
   "execution_count": 6,
   "metadata": {},
   "outputs": [],
   "source": [
    "#view의 만회를 실질적인 숫자로 변경\n",
    "dingo['view'] = dingo['view'].replace({'만회':'*10000'},regex=True).map(pd.eval).astype(int)"
   ]
  },
  {
   "cell_type": "code",
   "execution_count": 7,
   "metadata": {},
   "outputs": [],
   "source": [
    "#comment컬럼도 숫자만 처리\n",
    "dingo['comment']=dingo['comment'].str.replace(\",\",\"\").str.replace(r'(\\w+\\s)',\"\").str.replace(\"개\",\"\").astype(int)"
   ]
  },
  {
   "cell_type": "code",
   "execution_count": 8,
   "metadata": {},
   "outputs": [],
   "source": [
    "#likes컬럼 천개,만개 숫자로 변경\n",
    "dingo['likes_num'] = dingo['likes_num'].replace({'만개':'*10000','천개':'*1000'},regex=True).map(pd.eval).astype(int)"
   ]
  },
  {
   "cell_type": "code",
   "execution_count": 9,
   "metadata": {},
   "outputs": [],
   "source": [
    "#unlikes_num 개 제거\n",
    "dingo['unlikes_num'] = dingo['unlikes_num'].replace({'개':'','천':'*1000'},regex=True).map(pd.eval).astype(int)"
   ]
  },
  {
   "cell_type": "code",
   "execution_count": 10,
   "metadata": {},
   "outputs": [],
   "source": [
    "#참고하는 사이트처럼 이모티콘 제거\n",
    "emoji_pattern = re.compile(\"[\"\n",
    "        u\"\\U0001F600-\\U0001F64F\"  # emoticons\n",
    "        u\"\\U0001F300-\\U0001F5FF\"  # symbols & pictographs\n",
    "        u\"\\U0001F680-\\U0001F6FF\"  # transport & map symbols\n",
    "        u\"\\U0001F1E0-\\U0001F1FF\"  # flags (iOS)\n",
    "                           \"]+\", flags=re.UNICODE)"
   ]
  },
  {
   "cell_type": "code",
   "execution_count": 11,
   "metadata": {},
   "outputs": [],
   "source": [
    "#분석에 어긋나는 불용어구 제외 (특수문자, 의성어) 제거\n",
    "han = re.compile(r'[ㄱ-ㅎㅏ-ㅣ!?~,\".\\n\\r#\\ufeff\\u200d]')"
   ]
  },
  {
   "cell_type": "code",
   "execution_count": 12,
   "metadata": {},
   "outputs": [],
   "source": [
    "title_ls = []\n",
    "for i in range(len(dingo)):\n",
    "    a = re.sub(emoji_pattern,\"\",dingo['name'].iloc[i])\n",
    "    \n",
    "    b = re.sub(han,\"\",a)\n",
    "    \n",
    "    title_ls.append(b)\n",
    "\n",
    "dingo['name'] = title_ls"
   ]
  },
  {
   "cell_type": "markdown",
   "metadata": {},
   "source": [
    "#### 상관관계 측정"
   ]
  },
  {
   "cell_type": "code",
   "execution_count": 13,
   "metadata": {},
   "outputs": [],
   "source": [
    "corr = dingo[['view','likes_num','comment','unlikes_num']].corr()"
   ]
  },
  {
   "cell_type": "code",
   "execution_count": 14,
   "metadata": {},
   "outputs": [
    {
     "data": {
      "text/html": [
       "<div>\n",
       "<style scoped>\n",
       "    .dataframe tbody tr th:only-of-type {\n",
       "        vertical-align: middle;\n",
       "    }\n",
       "\n",
       "    .dataframe tbody tr th {\n",
       "        vertical-align: top;\n",
       "    }\n",
       "\n",
       "    .dataframe thead th {\n",
       "        text-align: right;\n",
       "    }\n",
       "</style>\n",
       "<table border=\"1\" class=\"dataframe\">\n",
       "  <thead>\n",
       "    <tr style=\"text-align: right;\">\n",
       "      <th></th>\n",
       "      <th>view</th>\n",
       "      <th>likes_num</th>\n",
       "      <th>comment</th>\n",
       "      <th>unlikes_num</th>\n",
       "    </tr>\n",
       "  </thead>\n",
       "  <tbody>\n",
       "    <tr>\n",
       "      <th>view</th>\n",
       "      <td>1.000000</td>\n",
       "      <td>0.948911</td>\n",
       "      <td>0.878170</td>\n",
       "      <td>0.673823</td>\n",
       "    </tr>\n",
       "    <tr>\n",
       "      <th>likes_num</th>\n",
       "      <td>0.948911</td>\n",
       "      <td>1.000000</td>\n",
       "      <td>0.727610</td>\n",
       "      <td>0.524275</td>\n",
       "    </tr>\n",
       "    <tr>\n",
       "      <th>comment</th>\n",
       "      <td>0.878170</td>\n",
       "      <td>0.727610</td>\n",
       "      <td>1.000000</td>\n",
       "      <td>0.838011</td>\n",
       "    </tr>\n",
       "    <tr>\n",
       "      <th>unlikes_num</th>\n",
       "      <td>0.673823</td>\n",
       "      <td>0.524275</td>\n",
       "      <td>0.838011</td>\n",
       "      <td>1.000000</td>\n",
       "    </tr>\n",
       "  </tbody>\n",
       "</table>\n",
       "</div>"
      ],
      "text/plain": [
       "                 view  likes_num   comment  unlikes_num\n",
       "view         1.000000   0.948911  0.878170     0.673823\n",
       "likes_num    0.948911   1.000000  0.727610     0.524275\n",
       "comment      0.878170   0.727610  1.000000     0.838011\n",
       "unlikes_num  0.673823   0.524275  0.838011     1.000000"
      ]
     },
     "execution_count": 14,
     "metadata": {},
     "output_type": "execute_result"
    }
   ],
   "source": [
    "corr"
   ]
  },
  {
   "cell_type": "code",
   "execution_count": 15,
   "metadata": {},
   "outputs": [
    {
     "data": {
      "text/plain": [
       "<matplotlib.axes._subplots.AxesSubplot at 0x2c6d2789388>"
      ]
     },
     "execution_count": 15,
     "metadata": {},
     "output_type": "execute_result"
    },
    {
     "data": {
      "image/png": "[encoded data removed]",
      "text/plain": [
       "<Figure size 432x288 with 2 Axes>"
      ]
     },
     "metadata": {
      "needs_background": "light"
     },
     "output_type": "display_data"
    }
   ],
   "source": [
    "#대체적으로 상관관계가 높은것으로 판단된다\n",
    "sns.heatmap(corr,annot=True)"
   ]
  },
  {
   "cell_type": "markdown",
   "metadata": {},
   "source": [
    "#### 타이틀 토큰화"
   ]
  },
  {
   "cell_type": "code",
   "execution_count": 16,
   "metadata": {},
   "outputs": [
    {
     "ename": "JVMNotFoundException",
     "evalue": "No JVM shared library file (jvm.dll) found. Try setting up the JAVA_HOME environment variable properly.",
     "output_type": "error",
     "traceback": [
      "\u001b[1;31m---------------------------------------------------------------------------\u001b[0m",
      "\u001b[1;31mJVMNotFoundException\u001b[0m                      Traceback (most recent call last)",
      "\u001b[1;32m<ipython-input-16-becdc006fb3e>\u001b[0m in \u001b[0;36m<module>\u001b[1;34m\u001b[0m\n\u001b[1;32m----> 1\u001b[1;33m \u001b[0mkkma\u001b[0m \u001b[1;33m=\u001b[0m \u001b[0mKkma\u001b[0m\u001b[1;33m(\u001b[0m\u001b[1;33m)\u001b[0m\u001b[1;33m\u001b[0m\u001b[1;33m\u001b[0m\u001b[0m\n\u001b[0m",
      "\u001b[1;32m~\\Anaconda3\\lib\\site-packages\\konlpy\\tag\\_kkma.py\u001b[0m in \u001b[0;36m__init__\u001b[1;34m(self, jvmpath, max_heap_size)\u001b[0m\n\u001b[0;32m     93\u001b[0m     \u001b[1;32mdef\u001b[0m \u001b[0m__init__\u001b[0m\u001b[1;33m(\u001b[0m\u001b[0mself\u001b[0m\u001b[1;33m,\u001b[0m \u001b[0mjvmpath\u001b[0m\u001b[1;33m=\u001b[0m\u001b[1;32mNone\u001b[0m\u001b[1;33m,\u001b[0m \u001b[0mmax_heap_size\u001b[0m\u001b[1;33m=\u001b[0m\u001b[1;36m1024\u001b[0m\u001b[1;33m)\u001b[0m\u001b[1;33m:\u001b[0m\u001b[1;33m\u001b[0m\u001b[1;33m\u001b[0m\u001b[0m\n\u001b[0;32m     94\u001b[0m         \u001b[1;32mif\u001b[0m \u001b[1;32mnot\u001b[0m \u001b[0mjpype\u001b[0m\u001b[1;33m.\u001b[0m\u001b[0misJVMStarted\u001b[0m\u001b[1;33m(\u001b[0m\u001b[1;33m)\u001b[0m\u001b[1;33m:\u001b[0m\u001b[1;33m\u001b[0m\u001b[1;33m\u001b[0m\u001b[0m\n\u001b[1;32m---> 95\u001b[1;33m             \u001b[0mjvm\u001b[0m\u001b[1;33m.\u001b[0m\u001b[0minit_jvm\u001b[0m\u001b[1;33m(\u001b[0m\u001b[0mjvmpath\u001b[0m\u001b[1;33m,\u001b[0m \u001b[0mmax_heap_size\u001b[0m\u001b[1;33m)\u001b[0m\u001b[1;33m\u001b[0m\u001b[1;33m\u001b[0m\u001b[0m\n\u001b[0m\u001b[0;32m     96\u001b[0m \u001b[1;33m\u001b[0m\u001b[0m\n\u001b[0;32m     97\u001b[0m         \u001b[0mkkmaJavaPackage\u001b[0m \u001b[1;33m=\u001b[0m \u001b[0mjpype\u001b[0m\u001b[1;33m.\u001b[0m\u001b[0mJPackage\u001b[0m\u001b[1;33m(\u001b[0m\u001b[1;34m'kr.lucypark.kkma'\u001b[0m\u001b[1;33m)\u001b[0m\u001b[1;33m\u001b[0m\u001b[1;33m\u001b[0m\u001b[0m\n",
      "\u001b[1;32m~\\Anaconda3\\lib\\site-packages\\konlpy\\jvm.py\u001b[0m in \u001b[0;36minit_jvm\u001b[1;34m(jvmpath, max_heap_size)\u001b[0m\n\u001b[0;32m     53\u001b[0m     \u001b[0mclasspath\u001b[0m \u001b[1;33m=\u001b[0m \u001b[0mos\u001b[0m\u001b[1;33m.\u001b[0m\u001b[0mpathsep\u001b[0m\u001b[1;33m.\u001b[0m\u001b[0mjoin\u001b[0m\u001b[1;33m(\u001b[0m\u001b[0mf\u001b[0m\u001b[1;33m.\u001b[0m\u001b[0mformat\u001b[0m\u001b[1;33m(\u001b[0m\u001b[1;33m*\u001b[0m\u001b[0margs\u001b[0m\u001b[1;33m)\u001b[0m \u001b[1;32mfor\u001b[0m \u001b[0mf\u001b[0m \u001b[1;32min\u001b[0m \u001b[0mfolder_suffix\u001b[0m\u001b[1;33m)\u001b[0m\u001b[1;33m\u001b[0m\u001b[1;33m\u001b[0m\u001b[0m\n\u001b[0;32m     54\u001b[0m \u001b[1;33m\u001b[0m\u001b[0m\n\u001b[1;32m---> 55\u001b[1;33m     \u001b[0mjvmpath\u001b[0m \u001b[1;33m=\u001b[0m \u001b[0mjvmpath\u001b[0m \u001b[1;32mor\u001b[0m \u001b[0mjpype\u001b[0m\u001b[1;33m.\u001b[0m\u001b[0mgetDefaultJVMPath\u001b[0m\u001b[1;33m(\u001b[0m\u001b[1;33m)\u001b[0m\u001b[1;33m\u001b[0m\u001b[1;33m\u001b[0m\u001b[0m\n\u001b[0m\u001b[0;32m     56\u001b[0m \u001b[1;33m\u001b[0m\u001b[0m\n\u001b[0;32m     57\u001b[0m     \u001b[1;31m# NOTE: Temporary patch for Issue #76. Erase when possible.\u001b[0m\u001b[1;33m\u001b[0m\u001b[1;33m\u001b[0m\u001b[1;33m\u001b[0m\u001b[0m\n",
      "\u001b[1;32m~\\Anaconda3\\lib\\site-packages\\jpype\\_core.py\u001b[0m in \u001b[0;36mgetDefaultJVMPath\u001b[1;34m()\u001b[0m\n\u001b[0;32m    335\u001b[0m         \u001b[0mfinder\u001b[0m \u001b[1;33m=\u001b[0m \u001b[0mLinuxJVMFinder\u001b[0m\u001b[1;33m(\u001b[0m\u001b[1;33m)\u001b[0m\u001b[1;33m\u001b[0m\u001b[1;33m\u001b[0m\u001b[0m\n\u001b[0;32m    336\u001b[0m \u001b[1;33m\u001b[0m\u001b[0m\n\u001b[1;32m--> 337\u001b[1;33m     \u001b[1;32mreturn\u001b[0m \u001b[0mfinder\u001b[0m\u001b[1;33m.\u001b[0m\u001b[0mget_jvm_path\u001b[0m\u001b[1;33m(\u001b[0m\u001b[1;33m)\u001b[0m\u001b[1;33m\u001b[0m\u001b[1;33m\u001b[0m\u001b[0m\n\u001b[0m\u001b[0;32m    338\u001b[0m \u001b[1;33m\u001b[0m\u001b[0m\n\u001b[0;32m    339\u001b[0m \u001b[1;33m\u001b[0m\u001b[0m\n",
      "\u001b[1;32m~\\Anaconda3\\lib\\site-packages\\jpype\\_jvmfinder.py\u001b[0m in \u001b[0;36mget_jvm_path\u001b[1;34m(self)\u001b[0m\n\u001b[0;32m    182\u001b[0m                                        \u001b[1;34m\"found. Try setting up the JAVA_HOME \"\u001b[0m\u001b[1;33m\u001b[0m\u001b[1;33m\u001b[0m\u001b[0m\n\u001b[0;32m    183\u001b[0m                                        \u001b[1;34m\"environment variable properly.\"\u001b[0m\u001b[1;33m\u001b[0m\u001b[1;33m\u001b[0m\u001b[0m\n\u001b[1;32m--> 184\u001b[1;33m                                        .format(self._libfile))\n\u001b[0m\u001b[0;32m    185\u001b[0m \u001b[1;33m\u001b[0m\u001b[0m\n\u001b[0;32m    186\u001b[0m     \u001b[1;32mdef\u001b[0m \u001b[0m_get_from_java_home\u001b[0m\u001b[1;33m(\u001b[0m\u001b[0mself\u001b[0m\u001b[1;33m)\u001b[0m\u001b[1;33m:\u001b[0m\u001b[1;33m\u001b[0m\u001b[1;33m\u001b[0m\u001b[0m\n",
      "\u001b[1;31mJVMNotFoundException\u001b[0m: No JVM shared library file (jvm.dll) found. Try setting up the JAVA_HOME environment variable properly."
     ]
    }
   ],
   "source": [
    "kkma = Kkma()"
   ]
  },
  {
   "cell_type": "code",
   "execution_count": 84,
   "metadata": {},
   "outputs": [
    {
     "ename": "TypeError",
     "evalue": "pos() missing 1 required positional argument: 'phrase'",
     "output_type": "error",
     "traceback": [
      "\u001b[1;31m---------------------------------------------------------------------------\u001b[0m",
      "\u001b[1;31mTypeError\u001b[0m                                 Traceback (most recent call last)",
      "\u001b[1;32m<ipython-input-84-a086f0f72a42>\u001b[0m in \u001b[0;36m<module>\u001b[1;34m\u001b[0m\n\u001b[0;32m      1\u001b[0m \u001b[1;32mfor\u001b[0m \u001b[0mtext\u001b[0m \u001b[1;32min\u001b[0m \u001b[0mrange\u001b[0m\u001b[1;33m(\u001b[0m\u001b[0mlen\u001b[0m\u001b[1;33m(\u001b[0m\u001b[0mdingo\u001b[0m\u001b[1;33m)\u001b[0m\u001b[1;33m)\u001b[0m\u001b[1;33m:\u001b[0m\u001b[1;33m\u001b[0m\u001b[1;33m\u001b[0m\u001b[0m\n\u001b[1;32m----> 2\u001b[1;33m     \u001b[0mnoun0\u001b[0m \u001b[1;33m=\u001b[0m \u001b[0mKkma\u001b[0m\u001b[1;33m.\u001b[0m\u001b[0mpos\u001b[0m\u001b[1;33m(\u001b[0m\u001b[0mdingo\u001b[0m\u001b[1;33m[\u001b[0m\u001b[1;34m'name'\u001b[0m\u001b[1;33m]\u001b[0m\u001b[1;33m.\u001b[0m\u001b[0miloc\u001b[0m\u001b[1;33m[\u001b[0m\u001b[0mtext\u001b[0m\u001b[1;33m]\u001b[0m\u001b[1;33m)\u001b[0m\u001b[1;33m\u001b[0m\u001b[1;33m\u001b[0m\u001b[0m\n\u001b[0m",
      "\u001b[1;31mTypeError\u001b[0m: pos() missing 1 required positional argument: 'phrase'"
     ]
    }
   ],
   "source": [
    "for text in range(len(dingo)):\n",
    "    noun0 = Kkma.pos(dingo['name'].iloc[text])"
   ]
  }
 ],
 "metadata": {
  "kernelspec": {
   "display_name": "Python 3",
   "language": "python",
   "name": "python3"
  },
  "language_info": {
   "codemirror_mode": {
    "name": "ipython",
    "version": 3
   },
   "file_extension": ".py",
   "mimetype": "text/x-python",
   "name": "python",
   "nbconvert_exporter": "python",
   "pygments_lexer": "ipython3",
   "version": "3.7.6"
  },
  "toc": {
   "base_numbering": 1,
   "nav_menu": {},
   "number_sections": true,
   "sideBar": true,
   "skip_h1_title": false,
   "title_cell": "Table of Contents",
   "title_sidebar": "Contents",
   "toc_cell": false,
   "toc_position": {},
   "toc_section_display": true,
   "toc_window_display": false
  },
  "varInspector": {
   "cols": {
    "lenName": 16,
    "lenType": 16,
    "lenVar": 40
   },
   "kernels_config": {
    "python": {
     "delete_cmd_postfix": "",
     "delete_cmd_prefix": "del ",
     "library": "var_list.py",
     "varRefreshCmd": "print(var_dic_list())"
    },
    "r": {
     "delete_cmd_postfix": ") ",
     "delete_cmd_prefix": "rm(",
     "library": "var_list.r",
     "varRefreshCmd": "cat(var_dic_list()) "
    }
   },
   "types_to_exclude": [
    "module",
    "function",
    "builtin_function_or_method",
    "instance",
    "_Feature"
   ],
   "window_display": false
  }
 },
 "nbformat": 4,
 "nbformat_minor": 4
}
